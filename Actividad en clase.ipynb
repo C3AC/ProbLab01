{
 "cells": [
  {
   "cell_type": "markdown",
   "id": "99008aca",
   "metadata": {},
   "source": [
    "# Probabilidades\n",
    "\n",
    "**Instrucciones**: Escriba un programa en Python con la solución de los siguientes ejercicios. **Deberá generar el listado de elementos que cumplan la o las condiciones indicadas.**"
   ]
  },
  {
   "cell_type": "markdown",
   "id": "0c759243",
   "metadata": {},
   "source": [
    "## Ejercicio 1.\n",
    "\n",
    "Dos números del 1 al 10 se seleccionan sucesivamente al azar. \n",
    "\n",
    "¿Cuál es la probabilidad de que su producto sea menor o igual que 50?"
   ]
  },
  {
   "cell_type": "code",
   "execution_count": 65,
   "id": "07e7b79e",
   "metadata": {},
   "outputs": [
    {
     "name": "stdout",
     "output_type": "stream",
     "text": [
      "La probabilidad de que el producto de dos números sea menor o igual a 50 es: 82.22%\n"
     ]
    }
   ],
   "source": [
    "import itertools as it\n",
    "a = list(range(1,11))\n",
    "A = list(it.combinations(a, 2))\n",
    "count = sum(1 for i in A if i[0] * i[1] <= 50)\n",
    "res = count / float(len(A)) *100\n",
    "print(f'La probabilidad de que el producto de dos números sea menor o igual a 50 es: {res:.2f}%')"
   ]
  },
  {
   "cell_type": "markdown",
   "id": "cbede247",
   "metadata": {},
   "source": [
    "## Ejercicio 2.\n",
    "\n",
    "Si se lanza un dado 4 veces, ¿cuál es la probabilidad de que salga 6 al menos una vez?"
   ]
  },
  {
   "cell_type": "code",
   "execution_count": 66,
   "id": "2f64130e",
   "metadata": {},
   "outputs": [
    {
     "name": "stdout",
     "output_type": "stream",
     "text": [
      "La probabilidad es de: 51.77%\n"
     ]
    }
   ],
   "source": [
    "b = list(range(1,7))\n",
    "B = list(it.product(b, repeat=4))\n",
    "count = sum(1 for i in B if 6 in i)\n",
    "res = count / float(len(B)) *100\n",
    "print(f'La probabilidad es de: {res:.2f}%')"
   ]
  },
  {
   "cell_type": "markdown",
   "id": "a8ed63d0",
   "metadata": {},
   "source": [
    "## Ejercicio 3. \n",
    "\n",
    "En un colegio, 3/4 de los estudiantes participan en deportes, 1/2 en actividades culturales y 1/8 en ninguna de ellas. Calcule la probabilidad de que un estudiante participe:\n",
    "\n",
    "a) en deportes o en actividades culturales\n",
    "\n",
    "b) tanto deportes como actividades culturales\n",
    "\n",
    "c) actividades culturales pero no deportivas"
   ]
  },
  {
   "cell_type": "code",
   "execution_count": 71,
   "id": "74445902",
   "metadata": {},
   "outputs": [
    {
     "name": "stdout",
     "output_type": "stream",
     "text": [
      "a)\n",
      "La probabilidad de que participe en deportes o actividades culturales es  87.50%\n",
      "b)\n",
      "La probabilidad de que participe en deportes y actividades culturales es  37.50%\n",
      "c)\n",
      "La probabilidad de que participe en actividades culturales pero no deportivas es de 12.50%\n"
     ]
    }
   ],
   "source": [
    "deportes = 0.75\n",
    "cultura = 0.5\n",
    "\n",
    "\n",
    "\n",
    "print('a)')\n",
    "print(f'La probabilidad de que participe en deportes o actividades culturales es  {(deportes + cultura - deportes*cultura)*100:.2f}%')\n",
    "print('b)')\n",
    "print(f'La probabilidad de que participe en deportes y actividades culturales es  {(deportes*cultura)*100:.2f}%')\n",
    "print('c)')\n",
    "print(f'La probabilidad de que participe en actividades culturales pero no deportivas es de {(cultura - deportes*cultura)*100:.2f}%')\n"
   ]
  },
  {
   "cell_type": "markdown",
   "id": "c1a1df1b",
   "metadata": {},
   "source": [
    "## Ejercicio 4.\n",
    "\n",
    "Una urna contiene 5 pelotas rojas, 6 azules y 8 verdes. Si se selecciona al azar un conjunto de 3 pelotas, ¿cuál es la probabilidad de que cada una de las pelotas sea:\n",
    "\n",
    "a) del mismo color?\n",
    "\n",
    "b) de colores diferentes? "
   ]
  },
  {
   "cell_type": "code",
   "execution_count": 73,
   "id": "0c04be52",
   "metadata": {},
   "outputs": [
    {
     "name": "stdout",
     "output_type": "stream",
     "text": [
      "a)\n",
      "Hay un 8.88% de probabilidad de que las tres cartas sean del mismo color\n",
      "b)\n",
      "Hay un 24.77% de probabilidad de que las tres cartas sean de diferente color\n"
     ]
    }
   ],
   "source": [
    "s = []\n",
    "for i in range(5):\n",
    "    s.append('R')\n",
    "for i in range(6):\n",
    "    s.append('A')\n",
    "for i in range(8):\n",
    "    s.append('V')\n",
    "S = list(it.combinations(s, 3))\n",
    "print('a)')\n",
    "count = sum(1 for i in S if i[0] == i[1] and i[1] == i[2]) *100\n",
    "res = count / float(len(S))\n",
    "print(f'Hay un {res:.2f}% de probabilidad de que las tres cartas sean del mismo color')\n",
    "\n",
    "print('b)')\n",
    "count = sum(1 for i in S if i[0] != i[1] and i[1] != i[2] and i[0] != i[2])\n",
    "res = count / float(len(S)) *100\n",
    "print(f'Hay un {res:.2f}% de probabilidad de que las tres cartas sean de diferente color')"
   ]
  },
  {
   "cell_type": "markdown",
   "id": "a1f286c8",
   "metadata": {},
   "source": [
    "## Ejercicio 5.\n",
    "\n",
    "Repita el ejercicio anterior suponiendo que ahora cada vez que se selecciona una pelota, se anota su color y se vuelve a introducir en la urna antes de la siguiente selección; esto se conoce como _muestreo con reemplazo._"
   ]
  },
  {
   "cell_type": "code",
   "execution_count": 77,
   "id": "ef6885cb",
   "metadata": {},
   "outputs": [
    {
     "name": "stdout",
     "output_type": "stream",
     "text": [
      "a)\n",
      "Hay un 12.44% de probabilidad de que las tres cartas sean del mismo color\n",
      "b)\n",
      "Hay un 20.99% de probabilidad de que las tres cartas sean de diferente color\n"
     ]
    }
   ],
   "source": [
    "s = []\n",
    "for i in range(5):\n",
    "    s.append('R')\n",
    "for i in range(6):\n",
    "    s.append('A')\n",
    "for i in range(8):\n",
    "    s.append('V')\n",
    "S = list(it.product(s,repeat=3))\n",
    "print('a)')\n",
    "count = sum(1 for i in S if i[0] == i[1] and i[1] == i[2])\n",
    "res = count / float(len(S)) *100\n",
    "print(f'Hay un {res:.2f}% de probabilidad de que las tres cartas sean del mismo color')\n",
    "\n",
    "print('b)')\n",
    "count = sum(1 for i in S if i[0] != i[1] and i[1] != i[2] and i[0] != i[2])\n",
    "res = count / float(len(S)) *100\n",
    "print(f'Hay un {res:.2f}% de probabilidad de que las tres cartas sean de diferente color')"
   ]
  },
  {
   "cell_type": "markdown",
   "id": "47bd344a",
   "metadata": {},
   "source": [
    "## Ejercicio 6.\n",
    "\n",
    "Un profesor da a su clase un conjunto de 10 problemas con la información de que el examen final consistirá en una selección aleatoria de 5 de ellos. Si un estudiante ha resuelto 7 de los problemas, ¿cuál es la probabilidad de que conteste correctamente:\n",
    "\n",
    "a) los 5 problemas?\n",
    "\n",
    "b) al menos 4 de los problemas?"
   ]
  },
  {
   "cell_type": "code",
   "execution_count": 79,
   "id": "85a0b0b0",
   "metadata": {},
   "outputs": [
    {
     "name": "stdout",
     "output_type": "stream",
     "text": [
      "a)\n",
      "Hay un 8.33% de probabilidad de que tenga las cinco respuestas correctas\n",
      "b)\n",
      "Hay un 50.00% de probabilidad de que tenga al menos cuatro respuestas correctas\n"
     ]
    }
   ],
   "source": [
    "s = []\n",
    "for i in range(7):\n",
    "    s.append('D')\n",
    "for i in range(3):\n",
    "    s.append('U')\n",
    "S = list(it.combinations(s, 5))\n",
    "print('a)')\n",
    "count = sum(1 for i in S if not 'U' in i)\n",
    "res = count / float(len(S)) *100\n",
    "print(f'Hay un {res:.2f}% de probabilidad de que tenga las cinco respuestas correctas')\n",
    "print('b)')\n",
    "count2 = 0\n",
    "for s in S:\n",
    "    dict = {}\n",
    "    for i in s: \n",
    "        if i in dict:\n",
    "            dict[i] += 1\n",
    "        else:\n",
    "            dict[i] = 1\n",
    "        if dict['D'] >= 4:\n",
    "            count2 += 1\n",
    "            break\n",
    "res = count2 / float(len(S)) *100\n",
    "print(f'Hay un {res:.2f}% de probabilidad de que tenga al menos cuatro respuestas correctas')"
   ]
  }
 ],
 "metadata": {
  "kernelspec": {
   "display_name": "Python 3",
   "language": "python",
   "name": "python3"
  },
  "language_info": {
   "codemirror_mode": {
    "name": "ipython",
    "version": 3
   },
   "file_extension": ".py",
   "mimetype": "text/x-python",
   "name": "python",
   "nbconvert_exporter": "python",
   "pygments_lexer": "ipython3",
   "version": "3.12.8"
  }
 },
 "nbformat": 4,
 "nbformat_minor": 5
}
