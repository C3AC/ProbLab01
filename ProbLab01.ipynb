{
 "cells": [
  {
   "cell_type": "markdown",
   "metadata": {},
   "source": [
    "1. Una empresa tiene un grupo de 8 empleados Ana, Bruno, Carlos, Dina, Eli, Frank,\n",
    "Gaby y Hugo, de los cuales necesita formar equipos de 3 personas para un proyecto.\n",
    "\n",
    "    a. ¿Cuántos equipos diferentes de 3 personas pueden formarse? ¿En cuántos de éstos\n",
    "    está Ana?"
   ]
  },
  {
   "cell_type": "code",
   "execution_count": 1,
   "metadata": {},
   "outputs": [
    {
     "name": "stdout",
     "output_type": "stream",
     "text": [
      "a)\n",
      "Existen 120  equipos de 3 personas que se pueden formar con los 6 amigos\n",
      "De los cuales 60,incluyen a Ana\n",
      "b)\n",
      "Existen 15 equipos de 4 personas que se pueden formar con los 6 amigos\n",
      "De los cuales 5, no incluyen a Frank\n"
     ]
    }
   ],
   "source": [
    "import itertools as it\n",
    "\n",
    "A={'Ana', 'Bruno', 'Carlos', 'Dina', 'Eli','Frank'}\n",
    "S=set(it.permutations(A,3))\n",
    "print('a)')\n",
    "print(f'Existen {len(S)} equipos de 3 personas que se pueden formar con los 6 amigos')\n",
    "Ra = sum(1 for s in S if 'Ana' in s)\n",
    "print(f'De los cuales {Ra},incluyen a Ana')\n",
    "\n",
    "print('b)')\n",
    "S=set(it.combinations(A,4))\n",
    "print(f'Existen {len(S)} equipos de 4 personas que se pueden formar con los 6 amigos')\n",
    "Rb = sum(1 for s in S if 'Frank' not in s)\n",
    "print(f'De los cuales {Rb}, no incluyen a Frank')"
   ]
  }
 ],
 "metadata": {
  "kernelspec": {
   "display_name": "Python 3",
   "language": "python",
   "name": "python3"
  },
  "language_info": {
   "codemirror_mode": {
    "name": "ipython",
    "version": 3
   },
   "file_extension": ".py",
   "mimetype": "text/x-python",
   "name": "python",
   "nbconvert_exporter": "python",
   "pygments_lexer": "ipython3",
   "version": "3.12.3"
  }
 },
 "nbformat": 4,
 "nbformat_minor": 2
}
