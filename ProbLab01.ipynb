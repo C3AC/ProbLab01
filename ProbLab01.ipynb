{
 "cells": [
  {
   "cell_type": "markdown",
   "metadata": {},
   "source": [
    "1. Una empresa tiene un grupo de 8 empleados Ana, Bruno, Carlos, Dina, Eli, Frank,\n",
    "Gaby y Hugo, de los cuales necesita formar equipos de 3 personas para un proyecto.\n",
    "\n",
    "    a. ¿Cuántos equipos diferentes de 3 personas pueden formarse? ¿En cuántos de éstos\n",
    "    está Ana?\n",
    "\n",
    "    \n",
    "    b. Cuántos equipos diferentes de 4 personas pueden formarse? ¿En cuántos de éstos\n",
    "    no está Frank?"
   ]
  },
  {
   "cell_type": "code",
   "execution_count": 36,
   "metadata": {},
   "outputs": [
    {
     "name": "stdout",
     "output_type": "stream",
     "text": [
      "a)\n",
      "Existen 120 equipos de 3 personas que se pueden formar con los 6 amigos\n",
      "De los cuales 60,incluyen a Ana\n",
      "b)\n",
      "Existen 15 equipos de 4 personas que se pueden formar con los 6 amigos\n",
      "De los cuales 5, no incluyen a Frank\n"
     ]
    }
   ],
   "source": [
    "import itertools as it\n",
    "\n",
    "A={'Ana', 'Bruno', 'Carlos', 'Dina', 'Eli','Frank'}\n",
    "S=set(it.permutations(A,3))\n",
    "print('a)')\n",
    "print(f'Existen {len(S)} equipos de 3 personas que se pueden formar con los 6 amigos')\n",
    "Ra = sum(1 for s in S if 'Ana' in s)\n",
    "print(f'De los cuales {Ra}, incluyen a Ana')\n",
    "\n",
    "print('b)')\n",
    "S=set(it.combinations(A,4))\n",
    "print(f'Existen {len(S)} equipos de 4 personas que se pueden formar con los 6 amigos')\n",
    "Rb = sum(1 for s in S if 'Frank' not in s)\n",
    "print(f'De los cuales {Rb}, no incluyen a Frank')"
   ]
  },
  {
   "cell_type": "markdown",
   "metadata": {},
   "source": [
    "2. \n",
    "\n",
    "        a. ¿Cuántas palabras diferentes se pueden formar usando todas las letras de la palabra SEERESS?\n",
    "\n",
    "        b. ¿Cuántas de estas palabras comienzan con S y terminan con R?\n",
    "\n",
    "        c. ¿Cuántas palabras diferentes se pueden formar usando cinco o más letras de la\n",
    "        palabra SEERESS?"
   ]
  },
  {
   "cell_type": "code",
   "execution_count": 37,
   "metadata": {},
   "outputs": [
    {
     "name": "stdout",
     "output_type": "stream",
     "text": [
      "a)\n",
      "Existen 140 palabras distintas con las letras de la palabra SEERESS\n",
      "b)\n",
      "De las cuales 10 empiezan con S y terminan con R\n",
      "c)\n",
      "Existen 370 palabras distintas con las letras de la palabra SEERESS de 5 o mas caracteres\n"
     ]
    }
   ],
   "source": [
    "import re\n",
    "A = re.split('','SEERESS')[1:-1]\n",
    "S = set(it.permutations(A))\n",
    "Ra = len(S)\n",
    "print('a)')\n",
    "print(f'Existen {Ra} palabras distintas con las letras de la palabra SEERESS')\n",
    "Rb = sum(1 for s in S if s[0]=='S' and s[-1]=='R')\n",
    "print('b)')\n",
    "print(f'De las cuales {Rb} empiezan con S y terminan con R')\n",
    "Rc = Ra\n",
    "S = set(it.permutations(A, 6))\n",
    "Rc = Rc + len(S)\n",
    "S = set(it.permutations(A, 5))\n",
    "Rc = Rc + len(S)\n",
    "print('c)')\n",
    "print(f'Existen {Rc} palabras distintas con las letras de la palabra SEERESS de 5 o mas caracteres')\n"
   ]
  },
  {
   "cell_type": "markdown",
   "metadata": {},
   "source": [
    "3. ¿Cuántos números entre 1 y 1,000,000 son primos?"
   ]
  },
  {
   "cell_type": "code",
   "execution_count": 38,
   "metadata": {},
   "outputs": [
    {
     "name": "stdout",
     "output_type": "stream",
     "text": [
      "Hay 78498 entre 1 y 1000000\n"
     ]
    }
   ],
   "source": [
    "primos = 0\n",
    "\n",
    "def es_primo(num):\n",
    "    if num <= 1:\n",
    "        return False\n",
    "    for i in range(2, int(num**0.5) + 1):\n",
    "        if (num % i) == 0:\n",
    "            return False\n",
    "    return True\n",
    "\n",
    "for i in range(1, 1000001):\n",
    "    if es_primo(i):\n",
    "        primos += 1\n",
    "print(f'Hay {primos} entre 1 y 1000000')\n",
    "\n"
   ]
  },
  {
   "cell_type": "markdown",
   "metadata": {},
   "source": [
    "4.\n",
    "a. ¿Cuántos números decimales de 4 dígitos se pueden formar usando los dígitos del\n",
    "0 al 9?\n",
    "b. ¿Cuántos tienen uno o más dígitos repetidos? Ej.: 2324, 5255, 6767, etc.\n",
    "c. ¿Cuántos tienen los 4 dígitos repetidos? Ej.: 3333.\n",
    "d. ¿Cuántos tienen dos dígitos (diferentes) repetidos dos veces cada uno? Ej.: 2424.\n",
    "e. ¿Cuántos de estos repiten un dígito dos veces y los otros no se repiten? Ej.: 3137.\n",
    "f. ¿Cuántos de estos repiten un dígito tres veces y el otro no se repite? Ej.: 9199"
   ]
  },
  {
   "cell_type": "code",
   "execution_count": 48,
   "metadata": {},
   "outputs": [
    {
     "name": "stdout",
     "output_type": "stream",
     "text": [
      "a)\n",
      "Existen 9000 numeros de 4 digitos\n",
      "b)\n",
      "Hay 4464 numeros de 4 digitos con digitos repetidos\n",
      "c)\n",
      "Hay 9 numeros de 4 digitos con todos los digitos iguales\n",
      "d)\n",
      "Hay 243 numeros de 4 digitos con exactamente 2 digitos distintos con una repeticion cada uno\n",
      "e)\n",
      "Hay 3888 numeros de 4 digitos con exactamente 3 digitos iguales\n",
      "f)\n",
      "Hay 324 numeros de 4 digitos con exactamente 3 digitos iguales y uno distinto\n"
     ]
    }
   ],
   "source": [
    "#Numero decimal = 1234\n",
    "import re\n",
    "\n",
    "\n",
    "numeros = list(range(1000, 10000))\n",
    "\n",
    "print('a)')\n",
    "print(f'Existen {len(numeros)} numeros de 4 digitos')\n",
    "\n",
    "contadorb = 0\n",
    "for num in numeros:\n",
    "    str_num = str(num)\n",
    "    if len(set(str_num)) < len(str_num):\n",
    "        contadorb += 1\n",
    "\n",
    "print('b)')\n",
    "print(f'Hay {contadorb} numeros de 4 digitos con digitos repetidos')\n",
    "\n",
    "contadorc = 0\n",
    "\n",
    "for num in numeros:\n",
    "    str_num = str(num)\n",
    "    if len(set(str_num)) == 1:\n",
    "        contadorc += 1\n",
    "\n",
    "print('c)')\n",
    "print(f'Hay {contadorc} numeros de 4 digitos con todos los digitos iguales')\n",
    "\n",
    "contadord = 0\n",
    "\n",
    "for num in numeros:\n",
    "    str_num = str(num)\n",
    "    list_num = re.split('',str_num)[1:-1]\n",
    "    dict_num = {}\n",
    "    for i in list_num:\n",
    "        if i in dict_num:\n",
    "            dict_num[i] += 1\n",
    "        else:\n",
    "            dict_num[i] = 1\n",
    "    for i in dict_num.values():\n",
    "        if i == 2 and len(set(str_num)) == 2:\n",
    "            contadord += 1\n",
    "contadord = contadord/2\n",
    "\n",
    "print('d)')\n",
    "print(f'Hay {int(contadord)} numeros de 4 digitos con exactamente 2 digitos distintos con una repeticion cada uno')\n",
    "\n",
    "\n",
    "contadore = 0\n",
    "\n",
    "for num in numeros:\n",
    "    str_num = str(num)\n",
    "    \n",
    "    if len(set(str_num)) == 3:\n",
    "        contadore += 1\n",
    "\n",
    "print('e)')\n",
    "print(f'Hay {contadore} numeros de 4 digitos con exactamente 3 digitos iguales')\n",
    "\n",
    "contadorf = 0\n",
    "\n",
    "for num in numeros:\n",
    "    str_num = str(num)\n",
    "    list_num = re.split('',str_num)\n",
    "    dict = {}\n",
    "    for i in list_num:\n",
    "        if i in dict:\n",
    "            dict[i] += 1\n",
    "        else:\n",
    "            dict[i] = 1\n",
    "    if len(set(str_num)) == 2 and 3 in dict.values():\n",
    "        contadorf += 1\n",
    "    \n",
    "print('f)')\n",
    "print(f'Hay {contadorf} numeros de 4 digitos con exactamente 3 digitos iguales y uno distinto')\n"
   ]
  }
 ],
 "metadata": {
  "kernelspec": {
   "display_name": "Python 3",
   "language": "python",
   "name": "python3"
  },
  "language_info": {
   "codemirror_mode": {
    "name": "ipython",
    "version": 3
   },
   "file_extension": ".py",
   "mimetype": "text/x-python",
   "name": "python",
   "nbconvert_exporter": "python",
   "pygments_lexer": "ipython3",
   "version": "3.12.3"
  }
 },
 "nbformat": 4,
 "nbformat_minor": 2
}
