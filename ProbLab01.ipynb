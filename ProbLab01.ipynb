{
 "cells": [
  {
   "cell_type": "markdown",
   "metadata": {},
   "source": [
    "1. Una empresa tiene un grupo de 8 empleados Ana, Bruno, Carlos, Dina, Eli, Frank,\n",
    "Gaby y Hugo, de los cuales necesita formar equipos de 3 personas para un proyecto.\n",
    "\n",
    "    a. ¿Cuántos equipos diferentes de 3 personas pueden formarse? ¿En cuántos de éstos\n",
    "    está Ana?\n",
    "\n",
    "    \n",
    "    b. Cuántos equipos diferentes de 4 personas pueden formarse? ¿En cuántos de éstos\n",
    "    no está Frank?"
   ]
  },
  {
   "cell_type": "code",
   "execution_count": 4,
   "metadata": {},
   "outputs": [
    {
     "name": "stdout",
     "output_type": "stream",
     "text": [
      "a)\n",
      "Existen 120 equipos de 3 personas que se pueden formar con los 6 amigos\n",
      "De los cuales 60,incluyen a Ana\n",
      "b)\n",
      "Existen 15 equipos de 4 personas que se pueden formar con los 6 amigos\n",
      "De los cuales 5, no incluyen a Frank\n"
     ]
    }
   ],
   "source": [
    "import itertools as it\n",
    "\n",
    "A={'Ana', 'Bruno', 'Carlos', 'Dina', 'Eli','Frank'}\n",
    "S=set(it.permutations(A,3))\n",
    "print('a)')\n",
    "print(f'Existen {len(S)} equipos de 3 personas que se pueden formar con los 6 amigos')\n",
    "Ra = sum(1 for s in S if 'Ana' in s)\n",
    "print(f'De los cuales {Ra},incluyen a Ana')\n",
    "\n",
    "print('b)')\n",
    "S=set(it.combinations(A,4))\n",
    "print(f'Existen {len(S)} equipos de 4 personas que se pueden formar con los 6 amigos')\n",
    "Rb = sum(1 for s in S if 'Frank' not in s)\n",
    "print(f'De los cuales {Rb}, no incluyen a Frank')"
   ]
  },
  {
   "cell_type": "markdown",
   "metadata": {},
   "source": [
    "2. \n",
    "\n",
    "        a. ¿Cuántas palabras diferentes se pueden formar usando todas las letras de la palabra SEERESS?\n",
    "\n",
    "        b. ¿Cuántas de estas palabras comienzan con S y terminan con R?\n",
    "\n",
    "        c. ¿Cuántas palabras diferentes se pueden formar usando cinco o más letras de la\n",
    "        palabra SEERESS?"
   ]
  },
  {
   "cell_type": "code",
   "execution_count": 5,
   "metadata": {},
   "outputs": [
    {
     "name": "stdout",
     "output_type": "stream",
     "text": [
      "a)\n",
      "Existen 140 palabras distintas con las letras de la palabra SEERESS\n",
      "b)\n",
      "De las cuales 10 empiezan con S y terminan con R\n",
      "c)\n",
      "Existen 370 palabras distintas con las letras de la palabra SEERESS de 5 o mas caracteres\n"
     ]
    }
   ],
   "source": [
    "import re\n",
    "A = re.split('','SEERESS')[1:-1]\n",
    "S = set(it.permutations(A))\n",
    "Ra = len(S)\n",
    "print('a)')\n",
    "print(f'Existen {Ra} palabras distintas con las letras de la palabra SEERESS')\n",
    "Rb = sum(1 for s in S if s[0]=='S' and s[-1]=='R')\n",
    "print('b)')\n",
    "print(f'De las cuales {Rb} empiezan con S y terminan con R')\n",
    "Rc = Ra\n",
    "S = set(it.permutations(A, 6))\n",
    "Rc = Rc + len(S)\n",
    "S = set(it.permutations(A, 5))\n",
    "Rc = Rc + len(S)\n",
    "print('c)')\n",
    "print(f'Existen {Rc} palabras distintas con las letras de la palabra SEERESS de 5 o mas caracteres')\n"
   ]
  },
  {
   "cell_type": "markdown",
   "metadata": {},
   "source": [
    "3. ¿Cuántos números entre 1 y 1,000,000 son primos?"
   ]
  },
  {
   "cell_type": "code",
   "execution_count": 7,
   "metadata": {},
   "outputs": [
    {
     "name": "stdout",
     "output_type": "stream",
     "text": [
      "Hay 78498 entre 1 y 1000000\n"
     ]
    }
   ],
   "source": [
    "primos = 0\n",
    "\n",
    "def es_primo(num):\n",
    "    if num <= 1:\n",
    "        return False\n",
    "    for i in range(2, int(num**0.5) + 1):\n",
    "        if (num % i) == 0:\n",
    "            return False\n",
    "    return True\n",
    "\n",
    "for i in range(1, 1000001):\n",
    "    if es_primo(i):\n",
    "        primos += 1\n",
    "print(f'Hay {primos} entre 1 y 1000000')\n",
    "\n"
   ]
  },
  {
   "cell_type": "code",
   "execution_count": 25,
   "metadata": {},
   "outputs": [
    {
     "name": "stdout",
     "output_type": "stream",
     "text": [
      "a)\n",
      "Hay 5040 numeros de 4 digitos distintos\n",
      "b)\n",
      "Hay 0 numeros de 4 digitos con digitos repetidos\n",
      "c)\n",
      "Hay 0 numeros de 4 digitos con todos los digitos iguales\n"
     ]
    }
   ],
   "source": [
    "#Numero decimal = 1234\n",
    "\n",
    "\n",
    "numeros = [i for i in range(1000, 10000)]\n",
    "print('a)')\n",
    "print(f'Existen {len(numeros)} numeros de 4 digitos')\n",
    "\n",
    "contadorb = 0\n",
    "\n",
    "for num in numeros:\n",
    "    str_num = str(num)\n",
    "    if len(set(str_num)) < len(str_num):\n",
    "        contadorb += 1\n",
    "\n",
    "print('b)')\n",
    "print(f'Hay {contadorb} numeros de 4 digitos con digitos repetidos')\n",
    "\n",
    "contadorc = 0\n",
    "\n",
    "for num in numeros:\n",
    "    str_num = str(num)\n",
    "    if len(set(str_num)) == 1:\n",
    "        contadorc += 1\n",
    "\n",
    "print('c)')\n",
    "print(f'Hay {contadorc} numeros de 4 digitos con todos los digitos iguales')\n",
    "\n",
    "contadord = 0\n",
    "\n",
    "contadore = 0\n",
    "\n"
   ]
  }
 ],
 "metadata": {
  "kernelspec": {
   "display_name": "Python 3",
   "language": "python",
   "name": "python3"
  },
  "language_info": {
   "codemirror_mode": {
    "name": "ipython",
    "version": 3
   },
   "file_extension": ".py",
   "mimetype": "text/x-python",
   "name": "python",
   "nbconvert_exporter": "python",
   "pygments_lexer": "ipython3",
   "version": "3.12.3"
  }
 },
 "nbformat": 4,
 "nbformat_minor": 2
}
